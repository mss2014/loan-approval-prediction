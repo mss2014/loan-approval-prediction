{
 "cells": [
  {
   "cell_type": "markdown",
   "id": "3154a265-9c0e-40e4-829c-2a3a047a8168",
   "metadata": {},
   "source": [
    "# Comparing Classifiers for Loan Approval"
   ]
  },
  {
   "cell_type": "code",
   "execution_count": 33,
   "id": "ded41a50-226f-4bc0-8d36-b7e683b2d40d",
   "metadata": {},
   "outputs": [],
   "source": [
    "# Importing required libraries\n",
    "import pandas as pd\n",
    "import numpy as np\n",
    "from sklearn.model_selection import train_test_split\n",
    "from sklearn.preprocessing import LabelEncoder, StandardScaler\n",
    "from sklearn.tree import DecisionTreeClassifier\n",
    "from sklearn.metrics import accuracy_score, confusion_matrix, classification_report\n",
    "from sklearn.svm import SVC\n",
    "import matplotlib.pyplot as plt\n",
    "import seaborn as sns"
   ]
  },
  {
   "cell_type": "markdown",
   "id": "b8d4fdfc-27c1-463f-a10b-2a2a006f1481",
   "metadata": {},
   "source": [
    "### 1. Decision Tree Classifier"
   ]
  },
  {
   "cell_type": "code",
   "execution_count": 3,
   "id": "a6e24816-6e7c-4e8d-94b2-8b23c7e99f82",
   "metadata": {},
   "outputs": [],
   "source": [
    "# --- 1. Data Preprocessing ---\n",
    "# Load the dataset\n",
    "file_path = 'loan_approval_dataset.csv'\n",
    "df = pd.read_csv(file_path)"
   ]
  },
  {
   "cell_type": "code",
   "execution_count": 4,
   "id": "4208f193-f2ee-4830-b803-4ea6129d03d2",
   "metadata": {},
   "outputs": [],
   "source": [
    "# Strip leading/trailing whitespace from column names\n",
    "df.columns = df.columns.str.strip()"
   ]
  },
  {
   "cell_type": "code",
   "execution_count": 5,
   "id": "375603b9-4b4d-4638-9f1e-3fe07e42fa63",
   "metadata": {},
   "outputs": [],
   "source": [
    "# Handle potential negative asset values\n",
    "asset_cols = ['residential_assets_value', 'commercial_assets_value', 'luxury_assets_value', 'bank_asset_value']\n",
    "for col in asset_cols:\n",
    "    df[col] = df[col].apply(lambda x: 0 if x < 0 else x)"
   ]
  },
  {
   "cell_type": "code",
   "execution_count": 6,
   "id": "b7bf71bc-e6a8-47ce-85c2-dc19c591367c",
   "metadata": {},
   "outputs": [],
   "source": [
    "# Drop the loan_id column\n",
    "df = df.drop('loan_id', axis=1)"
   ]
  },
  {
   "cell_type": "code",
   "execution_count": 7,
   "id": "8613dd9d-3f80-4340-bf7b-9312d9722037",
   "metadata": {},
   "outputs": [
    {
     "name": "stdout",
     "output_type": "stream",
     "text": [
      "\n",
      "Preprocessing: Encoding Categorical Variables...\n",
      "Mapping for 'loan_status': {' Approved': 0, ' Rejected': 1}\n"
     ]
    }
   ],
   "source": [
    "# Encode categorical variables using Label Encoding\n",
    "categorical_cols = df.select_dtypes(include='object').columns\n",
    "label_encoders = {}\n",
    "print(\"\\nPreprocessing: Encoding Categorical Variables...\")\n",
    "for col in categorical_cols:\n",
    "    le = LabelEncoder()\n",
    "    df[col] = le.fit_transform(df[col])\n",
    "    label_encoders[col] = le\n",
    "    if col == 'loan_status':\n",
    "        print(f\"Mapping for '{col}': {dict(zip(le.classes_, le.transform(le.classes_)))}\")"
   ]
  },
  {
   "cell_type": "code",
   "execution_count": 8,
   "id": "3e63753b-ae37-47ad-adbe-0339ac866478",
   "metadata": {},
   "outputs": [],
   "source": [
    "# Separate features (X) and target (y)\n",
    "X = df.drop('loan_status', axis=1)\n",
    "y = df['loan_status'] # Target variable is now encoded (0=Approved, 1=Rejected)"
   ]
  },
  {
   "cell_type": "code",
   "execution_count": 9,
   "id": "ae58feda-2c6b-4945-a477-3d1e0259b880",
   "metadata": {},
   "outputs": [
    {
     "name": "stdout",
     "output_type": "stream",
     "text": [
      "Preprocessing: Data Split - Train shape: (3415, 11), Test shape: (854, 11)\n"
     ]
    }
   ],
   "source": [
    "# Split the dataset into training and testing sets\n",
    "X_train, X_test, y_train, y_test = train_test_split(X, y, test_size=0.2, random_state=42, stratify=y)\n",
    "print(f\"Preprocessing: Data Split - Train shape: {X_train.shape}, Test shape: {X_test.shape}\")"
   ]
  },
  {
   "cell_type": "code",
   "execution_count": 11,
   "id": "c839df8f-7ea1-4588-8a7d-68e6b6a08762",
   "metadata": {},
   "outputs": [
    {
     "name": "stdout",
     "output_type": "stream",
     "text": [
      "Preprocessing: Feature Scaling Completed.\n"
     ]
    }
   ],
   "source": [
    "# Perform feature scaling (StandardScaler)\n",
    "scaler = StandardScaler()\n",
    "X_train_scaled = scaler.fit_transform(X_train)\n",
    "X_test_scaled = scaler.transform(X_test)\n",
    "print(\"Preprocessing: Feature Scaling Completed.\")"
   ]
  },
  {
   "cell_type": "code",
   "execution_count": 12,
   "id": "110ac0f6-a433-49e1-b215-438981bd4113",
   "metadata": {},
   "outputs": [
    {
     "name": "stdout",
     "output_type": "stream",
     "text": [
      "\n",
      "Training Decision Tree Classifier...\n",
      "Training complete.\n"
     ]
    }
   ],
   "source": [
    "# --- 2. Model Implementation (Decision Tree) ---\n",
    "print(\"\\nTraining Decision Tree Classifier...\")\n",
    "dt_classifier = DecisionTreeClassifier(random_state=42)\n",
    "dt_classifier.fit(X_train_scaled, y_train)\n",
    "print(\"Training complete.\")"
   ]
  },
  {
   "cell_type": "code",
   "execution_count": 13,
   "id": "21160b5e-705a-4f75-a2e9-93c47124d8b5",
   "metadata": {},
   "outputs": [
    {
     "name": "stdout",
     "output_type": "stream",
     "text": [
      "\n",
      "--- Decision Tree Evaluation Results ---\n"
     ]
    }
   ],
   "source": [
    "# --- 3. Model Evaluation (Decision Tree) ---\n",
    "print(\"\\n--- Decision Tree Evaluation Results ---\")\n",
    "y_pred_dt = dt_classifier.predict(X_test_scaled)"
   ]
  },
  {
   "cell_type": "code",
   "execution_count": 14,
   "id": "816ae772-0e76-43c8-b937-e1b98f823567",
   "metadata": {},
   "outputs": [
    {
     "name": "stdout",
     "output_type": "stream",
     "text": [
      "Accuracy: 0.9719 (97.19%)\n"
     ]
    }
   ],
   "source": [
    "# Accuracy\n",
    "accuracy_dt = accuracy_score(y_test, y_pred_dt)\n",
    "print(f\"Accuracy: {accuracy_dt:.4f} ({accuracy_dt * 100:.2f}%)\")"
   ]
  },
  {
   "cell_type": "code",
   "execution_count": 15,
   "id": "a375f38d-d38b-4812-9961-36a5d3d5ac28",
   "metadata": {},
   "outputs": [
    {
     "name": "stdout",
     "output_type": "stream",
     "text": [
      "\n",
      "Confusion Matrix:\n",
      "[[523   8]\n",
      " [ 16 307]]\n"
     ]
    }
   ],
   "source": [
    "# Confusion Matrix\n",
    "print(\"\\nConfusion Matrix:\")\n",
    "cm_dt = confusion_matrix(y_test, y_pred_dt)\n",
    "print(cm_dt)"
   ]
  },
  {
   "cell_type": "code",
   "execution_count": 19,
   "id": "a5ac8b3c-4bb6-408c-bfcb-7f04f0e48c3a",
   "metadata": {},
   "outputs": [
    {
     "name": "stdout",
     "output_type": "stream",
     "text": [
      "\n",
      "Classification Report:\n",
      "              precision    recall  f1-score   support\n",
      "\n",
      "           0       0.97      0.98      0.98       531\n",
      "           1       0.97      0.95      0.96       323\n",
      "\n",
      "    accuracy                           0.97       854\n",
      "   macro avg       0.97      0.97      0.97       854\n",
      "weighted avg       0.97      0.97      0.97       854\n",
      "\n"
     ]
    }
   ],
   "source": [
    "# Classification Report\n",
    "print(\"\\nClassification Report:\")\n",
    "from sklearn.metrics import classification_report\n",
    "\n",
    "print(classification_report(y_test,y_pred_dt))"
   ]
  },
  {
   "cell_type": "markdown",
   "id": "620c0b1b-6d91-4e82-bcac-9602219d62bc",
   "metadata": {},
   "source": [
    "### 2.K-Nearest Neighbors Classifier"
   ]
  },
  {
   "cell_type": "code",
   "execution_count": 23,
   "id": "6c7edc66-150a-429b-ad63-8ab8ed89fb6b",
   "metadata": {},
   "outputs": [
    {
     "name": "stdout",
     "output_type": "stream",
     "text": [
      "\n",
      "Training K-Nearest Neighbors Classifier (k=5)...\n",
      "Training complete.\n"
     ]
    }
   ],
   "source": [
    "# --- 1. Data Preprocessing (completed) ---\n",
    "# --- 2. Model Implementation (KNN) ---\n",
    "from sklearn.neighbors import KNeighborsClassifier\n",
    "print(\"\\nTraining K-Nearest Neighbors Classifier (k=5)...\")\n",
    "knn_classifier = KNeighborsClassifier(n_neighbors=5) # Using default k=5\n",
    "knn_classifier.fit(X_train_scaled, y_train)\n",
    "print(\"Training complete.\")"
   ]
  },
  {
   "cell_type": "code",
   "execution_count": 24,
   "id": "604266a1-c8c6-4c24-8e58-08a646702eeb",
   "metadata": {},
   "outputs": [
    {
     "name": "stdout",
     "output_type": "stream",
     "text": [
      "\n",
      "--- KNN Evaluation Results ---\n"
     ]
    }
   ],
   "source": [
    "# --- 3. Model Evaluation (KNN) ---\n",
    "print(\"\\n--- KNN Evaluation Results ---\")\n",
    "y_pred_knn = knn_classifier.predict(X_test_scaled)"
   ]
  },
  {
   "cell_type": "code",
   "execution_count": 25,
   "id": "73fe6cf9-7897-4031-9599-4cb8fb9f82be",
   "metadata": {},
   "outputs": [
    {
     "name": "stdout",
     "output_type": "stream",
     "text": [
      "Accuracy: 0.8970 (89.70%)\n"
     ]
    }
   ],
   "source": [
    "# Accuracy\n",
    "accuracy_knn = accuracy_score(y_test, y_pred_knn)\n",
    "print(f\"Accuracy: {accuracy_knn:.4f} ({accuracy_knn * 100:.2f}%)\")"
   ]
  },
  {
   "cell_type": "code",
   "execution_count": 27,
   "id": "312a219e-f46c-41e0-91ea-7f861310aa5a",
   "metadata": {},
   "outputs": [
    {
     "name": "stdout",
     "output_type": "stream",
     "text": [
      "\n",
      "Confusion Matrix:\n",
      "[[492  39]\n",
      " [ 49 274]]\n"
     ]
    }
   ],
   "source": [
    "# Confusion Matrix\n",
    "print(\"\\nConfusion Matrix:\")\n",
    "cm_knn = confusion_matrix(y_test, y_pred_knn)\n",
    "print(cm_knn)"
   ]
  },
  {
   "cell_type": "code",
   "execution_count": 29,
   "id": "3732e8a7-310f-4d1f-b64d-d8b535200b14",
   "metadata": {},
   "outputs": [
    {
     "name": "stdout",
     "output_type": "stream",
     "text": [
      "\n",
      "Classification Report:\n",
      "              precision    recall  f1-score   support\n",
      "\n",
      "           0       0.91      0.93      0.92       531\n",
      "           1       0.88      0.85      0.86       323\n",
      "\n",
      "    accuracy                           0.90       854\n",
      "   macro avg       0.89      0.89      0.89       854\n",
      "weighted avg       0.90      0.90      0.90       854\n",
      "\n"
     ]
    }
   ],
   "source": [
    "# Classification Report\n",
    "print(\"\\nClassification Report:\")\n",
    "from sklearn.metrics import classification_report\n",
    "\n",
    "print(classification_report(y_test,y_pred_knn))"
   ]
  },
  {
   "cell_type": "markdown",
   "id": "dfeddd3b-d2b6-41a7-b5ad-dcaa2567006c",
   "metadata": {},
   "source": [
    "### 3. Support Vector Classifier"
   ]
  },
  {
   "cell_type": "code",
   "execution_count": 34,
   "id": "8738ec32-a748-4659-8c5e-db5aae883c70",
   "metadata": {},
   "outputs": [
    {
     "name": "stdout",
     "output_type": "stream",
     "text": [
      "\n",
      "Training Support Vector Classifier...\n",
      "Training complete.\n"
     ]
    }
   ],
   "source": [
    "# --- 1. Data Preprocessing (completed) ---\n",
    "# --- 2. Model Implementation (SVC) ---\n",
    "print(\"\\nTraining Support Vector Classifier...\")\n",
    "svc_classifier = SVC(random_state=42)\n",
    "svc_classifier.fit(X_train_scaled, y_train)\n",
    "print(\"Training complete.\")"
   ]
  },
  {
   "cell_type": "code",
   "execution_count": 35,
   "id": "5ee01c0c-5475-4120-9f3b-0c8afb78773c",
   "metadata": {},
   "outputs": [
    {
     "name": "stdout",
     "output_type": "stream",
     "text": [
      "\n",
      "--- SVC Evaluation Results ---\n"
     ]
    }
   ],
   "source": [
    "# --- 3. Model Evaluation (SVC) ---\n",
    "print(\"\\n--- SVC Evaluation Results ---\")\n",
    "y_pred_svc = svc_classifier.predict(X_test_scaled)"
   ]
  },
  {
   "cell_type": "code",
   "execution_count": 36,
   "id": "d27a1877-40a6-49b6-8ccb-4821b71b9e00",
   "metadata": {},
   "outputs": [
    {
     "name": "stdout",
     "output_type": "stream",
     "text": [
      "Accuracy: 0.9426 (94.26%)\n"
     ]
    }
   ],
   "source": [
    "# Accuracy\n",
    "accuracy_svc = accuracy_score(y_test, y_pred_svc)\n",
    "print(f\"Accuracy: {accuracy_svc:.4f} ({accuracy_svc * 100:.2f}%)\")"
   ]
  },
  {
   "cell_type": "code",
   "execution_count": 37,
   "id": "4450f907-b31c-4832-9710-80cf01a99122",
   "metadata": {},
   "outputs": [
    {
     "name": "stdout",
     "output_type": "stream",
     "text": [
      "\n",
      "Confusion Matrix:\n",
      "[[509  22]\n",
      " [ 27 296]]\n"
     ]
    }
   ],
   "source": [
    "# Confusion Matrix\n",
    "print(\"\\nConfusion Matrix:\")\n",
    "cm_svc = confusion_matrix(y_test, y_pred_svc)\n",
    "print(cm_svc)"
   ]
  },
  {
   "cell_type": "code",
   "execution_count": 40,
   "id": "a7faadd0-8ed2-4fee-9ee8-1e9d098f4e05",
   "metadata": {},
   "outputs": [
    {
     "name": "stdout",
     "output_type": "stream",
     "text": [
      "\n",
      "Classification Report:\n",
      "              precision    recall  f1-score   support\n",
      "\n",
      "           0       0.95      0.96      0.95       531\n",
      "           1       0.93      0.92      0.92       323\n",
      "\n",
      "    accuracy                           0.94       854\n",
      "   macro avg       0.94      0.94      0.94       854\n",
      "weighted avg       0.94      0.94      0.94       854\n",
      "\n"
     ]
    }
   ],
   "source": [
    "# Classification Report\n",
    "print(\"\\nClassification Report:\")\n",
    "from sklearn.metrics import confusion_matrix,classification_report\n",
    "\n",
    "print(classification_report(y_test,y_pred_svc))"
   ]
  }
 ],
 "metadata": {
  "kernelspec": {
   "display_name": "Python 3 (ipykernel)",
   "language": "python",
   "name": "python3"
  },
  "language_info": {
   "codemirror_mode": {
    "name": "ipython",
    "version": 3
   },
   "file_extension": ".py",
   "mimetype": "text/x-python",
   "name": "python",
   "nbconvert_exporter": "python",
   "pygments_lexer": "ipython3",
   "version": "3.12.7"
  }
 },
 "nbformat": 4,
 "nbformat_minor": 5
}
